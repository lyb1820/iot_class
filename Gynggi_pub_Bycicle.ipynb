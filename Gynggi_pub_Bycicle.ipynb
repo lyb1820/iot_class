{
  "nbformat": 4,
  "nbformat_minor": 0,
  "metadata": {
    "colab": {
      "provenance": [],
      "authorship_tag": "ABX9TyPUKWiRIALpjnCCdmzRa4e/",
      "include_colab_link": true
    },
    "kernelspec": {
      "name": "python3",
      "display_name": "Python 3"
    },
    "language_info": {
      "name": "python"
    }
  },
  "cells": [
    {
      "cell_type": "markdown",
      "metadata": {
        "id": "view-in-github",
        "colab_type": "text"
      },
      "source": [
        "<a href=\"https://colab.research.google.com/github/lyb1820/iot_class/blob/main/Gynggi_pub_Bycicle.ipynb\" target=\"_parent\"><img src=\"https://colab.research.google.com/assets/colab-badge.svg\" alt=\"Open In Colab\"/></a>"
      ]
    },
    {
      "cell_type": "code",
      "execution_count": 4,
      "metadata": {
        "colab": {
          "base_uri": "https://localhost:8080/"
        },
        "id": "d7KirvAqfd5X",
        "outputId": "f8b082ef-bae6-4016-ff21-5e4b8e9f2e30"
      },
      "outputs": [
        {
          "output_type": "stream",
          "name": "stdout",
          "text": [
            "<?xml version=\"1.0\" encoding=\"UTF-8\"?>\n",
            "\n",
            "<PublicBicycle>\n",
            "  <head>\n",
            "    <list_total_count>7</list_total_count>\n",
            "    <RESULT>\n",
            "      <CODE>INFO-000</CODE>\n",
            "      <MESSAGE>정상 처리되었습니다.</MESSAGE>\n",
            "    </RESULT>\n",
            "    <api_version>1.0v</api_version>\n",
            "  </head>\n",
            "  <row>\n",
            "    <SUM_YY></SUM_YY>\n",
            "    <SIGUN_NM>수원시</SIGUN_NM>\n",
            "    <SIGUN_CD>41110</SIGUN_CD>\n",
            "    <BIZ_BEGIN_YY>2014</BIZ_BEGIN_YY>\n",
            "    <OPERT_METHD_TYPE>위탁</OPERT_METHD_TYPE>\n",
            "    <STATION_REGION_OPNOFC_INFO><![CDATA[3]]></STATION_REGION_OPNOFC_INFO>\n",
            "    <BICYCL_HOLD_CNT>218</BICYCL_HOLD_CNT>\n",
            "    <INSTL_BIZ_EXPN>450</INSTL_BIZ_EXPN>\n",
            "    <FYR_MAINTNC_MANAGE_EXPN>120</FYR_MAINTNC_MANAGE_EXPN>\n",
            "    <OPERT_METHD_CONT><![CDATA[유료(1천원/회)]]></OPERT_METHD_CONT>\n",
            "    <BFYY_LEND_ACTLRSLT_CNT>18190</BFYY_LEND_ACTLRSLT_CNT>\n",
            "    <RM></RM>\n",
            "  </row>\n",
            "  <row>\n",
            "    <SUM_YY></SUM_YY>\n",
            "    <SIGUN_NM>고양시</SIGUN_NM>\n",
            "    <SIGUN_CD>41280</SIGUN_CD>\n",
            "    <BIZ_BEGIN_YY>2010</BIZ_BEGIN_YY>\n",
            "    <OPERT_METHD_TYPE>민간</OPERT_METHD_TYPE>\n",
            "    <STATION_REGION_OPNOFC_INFO><![CDATA[0]]></STATION_REGION_OPNOFC_INFO>\n",
            "    <BICYCL_HOLD_CNT>1500</BICYCL_HOLD_CNT>\n",
            "    <INSTL_BIZ_EXPN>0</INSTL_BIZ_EXPN>\n",
            "    <FYR_MAINTNC_MANAGE_EXPN>2372</FYR_MAINTNC_MANAGE_EXPN>\n",
            "    <OPERT_METHD_CONT><![CDATA[유료(1만원/월)]]></OPERT_METHD_CONT>\n",
            "    <BFYY_LEND_ACTLRSLT_CNT>530109</BFYY_LEND_ACTLRSLT_CNT>\n",
            "    <RM></RM>\n",
            "  </row>\n",
            "  <row>\n",
            "    <SUM_YY></SUM_YY>\n",
            "    <SIGUN_NM>부천시</SIGUN_NM>\n",
            "    <SIGUN_CD>41190</SIGUN_CD>\n",
            "    <BIZ_BEGIN_YY>2015</BIZ_BEGIN_YY>\n",
            "    <OPERT_METHD_TYPE>직영</OPERT_METHD_TYPE>\n",
            "    <STATION_REGION_OPNOFC_INFO><![CDATA[5]]></STATION_REGION_OPNOFC_INFO>\n",
            "    <BICYCL_HOLD_CNT>168</BICYCL_HOLD_CNT>\n",
            "    <INSTL_BIZ_EXPN>0</INSTL_BIZ_EXPN>\n",
            "    <FYR_MAINTNC_MANAGE_EXPN>8</FYR_MAINTNC_MANAGE_EXPN>\n",
            "    <OPERT_METHD_CONT><![CDATA[무료(5시간/일)]]></OPERT_METHD_CONT>\n",
            "    <BFYY_LEND_ACTLRSLT_CNT>10659</BFYY_LEND_ACTLRSLT_CNT>\n",
            "    <RM></RM>\n",
            "  </row>\n",
            "  <row>\n",
            "    <SUM_YY></SUM_YY>\n",
            "    <SIGUN_NM>평택시</SIGUN_NM>\n",
            "    <SIGUN_CD>41220</SIGUN_CD>\n",
            "    <BIZ_BEGIN_YY>2019</BIZ_BEGIN_YY>\n",
            "    <OPERT_METHD_TYPE>직영</OPERT_METHD_TYPE>\n",
            "    <STATION_REGION_OPNOFC_INFO><![CDATA[2]]></STATION_REGION_OPNOFC_INFO>\n",
            "    <BICYCL_HOLD_CNT>140</BICYCL_HOLD_CNT>\n",
            "    <INSTL_BIZ_EXPN>0</INSTL_BIZ_EXPN>\n",
            "    <FYR_MAINTNC_MANAGE_EXPN>47</FYR_MAINTNC_MANAGE_EXPN>\n",
            "    <OPERT_METHD_CONT><![CDATA[무료]]></OPERT_METHD_CONT>\n",
            "    <BFYY_LEND_ACTLRSLT_CNT>23613</BFYY_LEND_ACTLRSLT_CNT>\n",
            "    <RM></RM>\n",
            "  </row>\n",
            "  <row>\n",
            "    <SUM_YY></SUM_YY>\n",
            "    <SIGUN_NM>시흥시</SIGUN_NM>\n",
            "    <SIGUN_CD>41390</SIGUN_CD>\n",
            "    <BIZ_BEGIN_YY>2011</BIZ_BEGIN_YY>\n",
            "    <OPERT_METHD_TYPE>직영</OPERT_METHD_TYPE>\n",
            "    <STATION_REGION_OPNOFC_INFO><![CDATA[0]]></STATION_REGION_OPNOFC_INFO>\n",
            "    <BICYCL_HOLD_CNT>277</BICYCL_HOLD_CNT>\n",
            "    <INSTL_BIZ_EXPN>0</INSTL_BIZ_EXPN>\n",
            "    <FYR_MAINTNC_MANAGE_EXPN>80</FYR_MAINTNC_MANAGE_EXPN>\n",
            "    <OPERT_METHD_CONT><![CDATA[무료]]></OPERT_METHD_CONT>\n",
            "    <BFYY_LEND_ACTLRSLT_CNT>4389</BFYY_LEND_ACTLRSLT_CNT>\n",
            "    <RM></RM>\n",
            "  </row>\n",
            "  <row>\n",
            "    <SUM_YY></SUM_YY>\n",
            "    <SIGUN_NM>오산시</SIGUN_NM>\n",
            "    <SIGUN_CD>41370</SIGUN_CD>\n",
            "    <BIZ_BEGIN_YY>2013</BIZ_BEGIN_YY>\n",
            "    <OPERT_METHD_TYPE>직영</OPERT_METHD_TYPE>\n",
            "    <STATION_REGION_OPNOFC_INFO><![CDATA[0]]></STATION_REGION_OPNOFC_INFO>\n",
            "    <BICYCL_HOLD_CNT>190</BICYCL_HOLD_CNT>\n",
            "    <INSTL_BIZ_EXPN>0</INSTL_BIZ_EXPN>\n",
            "    <FYR_MAINTNC_MANAGE_EXPN>243</FYR_MAINTNC_MANAGE_EXPN>\n",
            "    <OPERT_METHD_CONT><![CDATA[무료(3시간/1일)]]></OPERT_METHD_CONT>\n",
            "    <BFYY_LEND_ACTLRSLT_CNT>16016</BFYY_LEND_ACTLRSLT_CNT>\n",
            "    <RM></RM>\n",
            "  </row>\n",
            "  <row>\n",
            "    <SUM_YY></SUM_YY>\n",
            "    <SIGUN_NM>과천시</SIGUN_NM>\n",
            "    <SIGUN_CD>41290</SIGUN_CD>\n",
            "    <BIZ_BEGIN_YY>2008</BIZ_BEGIN_YY>\n",
            "    <OPERT_METHD_TYPE>위탁</OPERT_METHD_TYPE>\n",
            "    <STATION_REGION_OPNOFC_INFO><![CDATA[0]]></STATION_REGION_OPNOFC_INFO>\n",
            "    <BICYCL_HOLD_CNT>160</BICYCL_HOLD_CNT>\n",
            "    <INSTL_BIZ_EXPN>0</INSTL_BIZ_EXPN>\n",
            "    <FYR_MAINTNC_MANAGE_EXPN>418</FYR_MAINTNC_MANAGE_EXPN>\n",
            "    <OPERT_METHD_CONT><![CDATA[무료]]></OPERT_METHD_CONT>\n",
            "    <BFYY_LEND_ACTLRSLT_CNT>12726</BFYY_LEND_ACTLRSLT_CNT>\n",
            "    <RM></RM>\n",
            "  </row>\n",
            "</PublicBicycle>\n",
            "\n",
            "\n"
          ]
        }
      ],
      "source": [
        "import requests\n",
        "url='https://openapi.gg.go.kr/PublicBicycle?KEY=e5bbaa8788ee4b2bbea50bd2df186858&TYPE=xml'\n",
        "r=requests.get(url)\n",
        "print(r.text)"
      ]
    },
    {
      "cell_type": "code",
      "source": [
        "from bs4 import BeautifulSoup\n",
        "\n",
        "soup=BeautifulSoup(r.text, features=\"xml\")"
      ],
      "metadata": {
        "id": "WMr5xL1ugXRb"
      },
      "execution_count": 9,
      "outputs": []
    },
    {
      "cell_type": "code",
      "source": [
        "soup.find_all('BICYCL_HOLD_CNT')"
      ],
      "metadata": {
        "colab": {
          "base_uri": "https://localhost:8080/"
        },
        "id": "PTJdOtUThoxA",
        "outputId": "07c4aa47-ac3e-4f18-a971-7ab412a2183f"
      },
      "execution_count": 12,
      "outputs": [
        {
          "output_type": "execute_result",
          "data": {
            "text/plain": [
              "[<BICYCL_HOLD_CNT>218</BICYCL_HOLD_CNT>,\n",
              " <BICYCL_HOLD_CNT>1500</BICYCL_HOLD_CNT>,\n",
              " <BICYCL_HOLD_CNT>168</BICYCL_HOLD_CNT>,\n",
              " <BICYCL_HOLD_CNT>140</BICYCL_HOLD_CNT>,\n",
              " <BICYCL_HOLD_CNT>277</BICYCL_HOLD_CNT>,\n",
              " <BICYCL_HOLD_CNT>190</BICYCL_HOLD_CNT>,\n",
              " <BICYCL_HOLD_CNT>160</BICYCL_HOLD_CNT>]"
            ]
          },
          "metadata": {},
          "execution_count": 12
        }
      ]
    }
  ]
}