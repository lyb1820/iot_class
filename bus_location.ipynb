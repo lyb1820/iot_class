{
  "nbformat": 4,
  "nbformat_minor": 0,
  "metadata": {
    "colab": {
      "provenance": [],
      "authorship_tag": "ABX9TyOdMCSuXTok6Pfc4Y1h6PV4",
      "include_colab_link": true
    },
    "kernelspec": {
      "name": "python3",
      "display_name": "Python 3"
    },
    "language_info": {
      "name": "python"
    }
  },
  "cells": [
    {
      "cell_type": "markdown",
      "metadata": {
        "id": "view-in-github",
        "colab_type": "text"
      },
      "source": [
        "<a href=\"https://colab.research.google.com/github/lyb1820/iot_class/blob/main/bus_location.ipynb\" target=\"_parent\"><img src=\"https://colab.research.google.com/assets/colab-badge.svg\" alt=\"Open In Colab\"/></a>"
      ]
    },
    {
      "cell_type": "code",
      "execution_count": 5,
      "metadata": {
        "colab": {
          "base_uri": "https://localhost:8080/"
        },
        "id": "IttLsuJ1Lcz3",
        "outputId": "18a2323e-b4c3-4acd-eaa8-36e82988156d"
      },
      "outputs": [
        {
          "output_type": "stream",
          "name": "stdout",
          "text": [
            "<?xml version=\"1.0\" encoding=\"UTF-8\" standalone=\"yes\"?><response><comMsgHeader/><msgHeader><queryTime>2024-03-14 13:26:42.464</queryTime><resultCode>0</resultCode><resultMessage>정상적으로 처리되었습니다.</resultMessage></msgHeader><msgBody><busLocationList><endBus>0</endBus><lowPlate>0</lowPlate><plateNo>경기77바3715</plateNo><plateType>3</plateType><remainSeatCnt>17</remainSeatCnt><routeId>234001243</routeId><stationId>277103386</stationId><stationSeq>14</stationSeq></busLocationList><busLocationList><endBus>0</endBus><lowPlate>0</lowPlate><plateNo>경기77바3500</plateNo><plateType>3</plateType><remainSeatCnt>37</remainSeatCnt><routeId>234001243</routeId><stationId>277103365</stationId><stationSeq>50</stationSeq></busLocationList><busLocationList><endBus>0</endBus><lowPlate>0</lowPlate><plateNo>경기77바3579</plateNo><plateType>3</plateType><remainSeatCnt>32</remainSeatCnt><routeId>234001243</routeId><stationId>277103392</stationId><stationSeq>40</stationSeq></busLocationList><busLocationList><endBus>0</endBus><lowPlate>0</lowPlate><plateNo>경기77바3504</plateNo><plateType>3</plateType><remainSeatCnt>43</remainSeatCnt><routeId>234001243</routeId><stationId>277103150</stationId><stationSeq>46</stationSeq></busLocationList><busLocationList><endBus>0</endBus><lowPlate>0</lowPlate><plateNo>경기77바3502</plateNo><plateType>3</plateType><remainSeatCnt>33</remainSeatCnt><routeId>234001243</routeId><stationId>277103442</stationId><stationSeq>48</stationSeq></busLocationList><busLocationList><endBus>0</endBus><lowPlate>0</lowPlate><plateNo>경기77바3597</plateNo><plateType>3</plateType><remainSeatCnt>41</remainSeatCnt><routeId>234001243</routeId><stationId>277102114</stationId><stationSeq>34</stationSeq></busLocationList><busLocationList><endBus>0</endBus><lowPlate>0</lowPlate><plateNo>경기77바3503</plateNo><plateType>3</plateType><remainSeatCnt>21</remainSeatCnt><routeId>234001243</routeId><stationId>277103443</stationId><stationSeq>13</stationSeq></busLocationList><busLocationList><endBus>0</endBus><lowPlate>0</lowPlate><plateNo>경기77바3508</plateNo><plateType>3</plateType><remainSeatCnt>12</remainSeatCnt><routeId>234001243</routeId><stationId>277104180</stationId><stationSeq>24</stationSeq></busLocationList><busLocationList><endBus>0</endBus><lowPlate>0</lowPlate><plateNo>경기77바3578</plateNo><plateType>3</plateType><remainSeatCnt>40</remainSeatCnt><routeId>234001243</routeId><stationId>101000303</stationId><stationSeq>28</stationSeq></busLocationList><busLocationList><endBus>0</endBus><lowPlate>0</lowPlate><plateNo>경기77바3582</plateNo><plateType>3</plateType><remainSeatCnt>34</remainSeatCnt><routeId>234001243</routeId><stationId>277104179</stationId><stationSeq>38</stationSeq></busLocationList><busLocationList><endBus>0</endBus><lowPlate>0</lowPlate><plateNo>경기77바3501</plateNo><plateType>3</plateType><remainSeatCnt>39</remainSeatCnt><routeId>234001243</routeId><stationId>203000075</stationId><stationSeq>53</stationSeq></busLocationList><busLocationList><endBus>0</endBus><lowPlate>0</lowPlate><plateNo>경기77바3318</plateNo><plateType>3</plateType><remainSeatCnt>30</remainSeatCnt><routeId>234001243</routeId><stationId>203000157</stationId><stationSeq>6</stationSeq></busLocationList><busLocationList><endBus>0</endBus><lowPlate>0</lowPlate><plateNo>경기77바1191</plateNo><plateType>3</plateType><remainSeatCnt>23</remainSeatCnt><routeId>234001243</routeId><stationId>277103364</stationId><stationSeq>11</stationSeq></busLocationList><busLocationList><endBus>0</endBus><lowPlate>0</lowPlate><plateNo>경기77바3349</plateNo><plateType>3</plateType><remainSeatCnt>32</remainSeatCnt><routeId>234001243</routeId><stationId>228000679</stationId><stationSeq>51</stationSeq></busLocationList></msgBody></response>\n"
          ]
        }
      ],
      "source": [
        "import requests\n",
        "url='http://openapi.gbis.go.kr/ws/rest/buslocationservice?serviceKey=1234567890&routeId=234001243'\n",
        "r=requests.get(url)\n",
        "print(r.text)"
      ]
    },
    {
      "cell_type": "code",
      "source": [
        "from bs4 import BeautifulSoup\n",
        "\n",
        "soup=BeautifulSoup(r.text, features=\"xml\")"
      ],
      "metadata": {
        "id": "XrfekZu5NkyN"
      },
      "execution_count": 8,
      "outputs": []
    },
    {
      "cell_type": "code",
      "source": [
        "soup.find_all('stationId')"
      ],
      "metadata": {
        "colab": {
          "base_uri": "https://localhost:8080/"
        },
        "id": "yxak1N-mN8JR",
        "outputId": "180e962b-8c5a-4391-a47f-0dd98d8f6f9a"
      },
      "execution_count": 9,
      "outputs": [
        {
          "output_type": "execute_result",
          "data": {
            "text/plain": [
              "[<stationId>277103386</stationId>,\n",
              " <stationId>277103365</stationId>,\n",
              " <stationId>277103392</stationId>,\n",
              " <stationId>277103150</stationId>,\n",
              " <stationId>277103442</stationId>,\n",
              " <stationId>277102114</stationId>,\n",
              " <stationId>277103443</stationId>,\n",
              " <stationId>277104180</stationId>,\n",
              " <stationId>101000303</stationId>,\n",
              " <stationId>277104179</stationId>,\n",
              " <stationId>203000075</stationId>,\n",
              " <stationId>203000157</stationId>,\n",
              " <stationId>277103364</stationId>,\n",
              " <stationId>228000679</stationId>]"
            ]
          },
          "metadata": {},
          "execution_count": 9
        }
      ]
    },
    {
      "cell_type": "code",
      "source": [
        "print('학번=', 2376215, '이름=', '이유빈')"
      ],
      "metadata": {
        "colab": {
          "base_uri": "https://localhost:8080/"
        },
        "id": "zy3ZIQDeQzfT",
        "outputId": "dba7a5cf-e950-4de6-f24c-9bd32dd35a98"
      },
      "execution_count": 10,
      "outputs": [
        {
          "output_type": "stream",
          "name": "stdout",
          "text": [
            "학번= 2376215 이름= 이유빈\n"
          ]
        }
      ]
    }
  ]
}